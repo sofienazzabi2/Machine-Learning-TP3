{
  "nbformat": 4,
  "nbformat_minor": 0,
  "metadata": {
    "colab": {
      "provenance": [],
      "authorship_tag": "ABX9TyMjjfhaeSOvopf7pFIfLkaA",
      "include_colab_link": true
    },
    "kernelspec": {
      "name": "python3",
      "display_name": "Python 3"
    },
    "language_info": {
      "name": "python"
    }
  },
  "cells": [
    {
      "cell_type": "markdown",
      "metadata": {
        "id": "view-in-github",
        "colab_type": "text"
      },
      "source": [
        "<a href=\"https://colab.research.google.com/github/sofienazzabi2/Machine-Learning-TP3/blob/main/TP3_ML.ipynb\" target=\"_parent\"><img src=\"https://colab.research.google.com/assets/colab-badge.svg\" alt=\"Open In Colab\"/></a>"
      ]
    },
    {
      "cell_type": "markdown",
      "source": [
        "imports"
      ],
      "metadata": {
        "id": "AzFLcNG80ORw"
      }
    },
    {
      "cell_type": "code",
      "source": [
        "from sklearn import datasets,naive_bayes\n",
        "from collections import Counter\n",
        "import numpy as np\n",
        "import pandas as pd\n",
        "import random\n",
        "import matplotlib\n",
        "import pylab as pl\n",
        "from itertools import cycle\n",
        "from sklearn.model_selection import train_test_split,cross_val_score\n",
        "from prettytable import PrettyTable\n",
        "from sklearn.tree import DecisionTreeClassifier"
      ],
      "metadata": {
        "id": "GWGojc3v0X1M"
      },
      "execution_count": 21,
      "outputs": []
    },
    {
      "cell_type": "markdown",
      "source": [
        "DEA\n"
      ],
      "metadata": {
        "id": "6Xd6vGxJ0ZRc"
      }
    },
    {
      "cell_type": "code",
      "execution_count": 2,
      "metadata": {
        "colab": {
          "base_uri": "https://localhost:8080/"
        },
        "id": "2YBas3MIx1AR",
        "outputId": "9e0fe6fc-a8f3-4722-90dd-7beede1675d5"
      },
      "outputs": [
        {
          "output_type": "stream",
          "name": "stdout",
          "text": [
            "['sepal length (cm)', 'sepal width (cm)', 'petal length (cm)', 'petal width (cm)']\n",
            "[[5.1 3.5 1.4 0.2]\n",
            " [4.9 3.  1.4 0.2]\n",
            " [4.7 3.2 1.3 0.2]\n",
            " [4.6 3.1 1.5 0.2]\n",
            " [5.  3.6 1.4 0.2]\n",
            " [5.4 3.9 1.7 0.4]\n",
            " [4.6 3.4 1.4 0.3]\n",
            " [5.  3.4 1.5 0.2]\n",
            " [4.4 2.9 1.4 0.2]\n",
            " [4.9 3.1 1.5 0.1]\n",
            " [5.4 3.7 1.5 0.2]\n",
            " [4.8 3.4 1.6 0.2]\n",
            " [4.8 3.  1.4 0.1]\n",
            " [4.3 3.  1.1 0.1]\n",
            " [5.8 4.  1.2 0.2]\n",
            " [5.7 4.4 1.5 0.4]\n",
            " [5.4 3.9 1.3 0.4]\n",
            " [5.1 3.5 1.4 0.3]\n",
            " [5.7 3.8 1.7 0.3]\n",
            " [5.1 3.8 1.5 0.3]\n",
            " [5.4 3.4 1.7 0.2]\n",
            " [5.1 3.7 1.5 0.4]\n",
            " [4.6 3.6 1.  0.2]\n",
            " [5.1 3.3 1.7 0.5]\n",
            " [4.8 3.4 1.9 0.2]\n",
            " [5.  3.  1.6 0.2]\n",
            " [5.  3.4 1.6 0.4]\n",
            " [5.2 3.5 1.5 0.2]\n",
            " [5.2 3.4 1.4 0.2]\n",
            " [4.7 3.2 1.6 0.2]\n",
            " [4.8 3.1 1.6 0.2]\n",
            " [5.4 3.4 1.5 0.4]\n",
            " [5.2 4.1 1.5 0.1]\n",
            " [5.5 4.2 1.4 0.2]\n",
            " [4.9 3.1 1.5 0.2]\n",
            " [5.  3.2 1.2 0.2]\n",
            " [5.5 3.5 1.3 0.2]\n",
            " [4.9 3.6 1.4 0.1]\n",
            " [4.4 3.  1.3 0.2]\n",
            " [5.1 3.4 1.5 0.2]\n",
            " [5.  3.5 1.3 0.3]\n",
            " [4.5 2.3 1.3 0.3]\n",
            " [4.4 3.2 1.3 0.2]\n",
            " [5.  3.5 1.6 0.6]\n",
            " [5.1 3.8 1.9 0.4]\n",
            " [4.8 3.  1.4 0.3]\n",
            " [5.1 3.8 1.6 0.2]\n",
            " [4.6 3.2 1.4 0.2]\n",
            " [5.3 3.7 1.5 0.2]\n",
            " [5.  3.3 1.4 0.2]\n",
            " [7.  3.2 4.7 1.4]\n",
            " [6.4 3.2 4.5 1.5]\n",
            " [6.9 3.1 4.9 1.5]\n",
            " [5.5 2.3 4.  1.3]\n",
            " [6.5 2.8 4.6 1.5]\n",
            " [5.7 2.8 4.5 1.3]\n",
            " [6.3 3.3 4.7 1.6]\n",
            " [4.9 2.4 3.3 1. ]\n",
            " [6.6 2.9 4.6 1.3]\n",
            " [5.2 2.7 3.9 1.4]\n",
            " [5.  2.  3.5 1. ]\n",
            " [5.9 3.  4.2 1.5]\n",
            " [6.  2.2 4.  1. ]\n",
            " [6.1 2.9 4.7 1.4]\n",
            " [5.6 2.9 3.6 1.3]\n",
            " [6.7 3.1 4.4 1.4]\n",
            " [5.6 3.  4.5 1.5]\n",
            " [5.8 2.7 4.1 1. ]\n",
            " [6.2 2.2 4.5 1.5]\n",
            " [5.6 2.5 3.9 1.1]\n",
            " [5.9 3.2 4.8 1.8]\n",
            " [6.1 2.8 4.  1.3]\n",
            " [6.3 2.5 4.9 1.5]\n",
            " [6.1 2.8 4.7 1.2]\n",
            " [6.4 2.9 4.3 1.3]\n",
            " [6.6 3.  4.4 1.4]\n",
            " [6.8 2.8 4.8 1.4]\n",
            " [6.7 3.  5.  1.7]\n",
            " [6.  2.9 4.5 1.5]\n",
            " [5.7 2.6 3.5 1. ]\n",
            " [5.5 2.4 3.8 1.1]\n",
            " [5.5 2.4 3.7 1. ]\n",
            " [5.8 2.7 3.9 1.2]\n",
            " [6.  2.7 5.1 1.6]\n",
            " [5.4 3.  4.5 1.5]\n",
            " [6.  3.4 4.5 1.6]\n",
            " [6.7 3.1 4.7 1.5]\n",
            " [6.3 2.3 4.4 1.3]\n",
            " [5.6 3.  4.1 1.3]\n",
            " [5.5 2.5 4.  1.3]\n",
            " [5.5 2.6 4.4 1.2]\n",
            " [6.1 3.  4.6 1.4]\n",
            " [5.8 2.6 4.  1.2]\n",
            " [5.  2.3 3.3 1. ]\n",
            " [5.6 2.7 4.2 1.3]\n",
            " [5.7 3.  4.2 1.2]\n",
            " [5.7 2.9 4.2 1.3]\n",
            " [6.2 2.9 4.3 1.3]\n",
            " [5.1 2.5 3.  1.1]\n",
            " [5.7 2.8 4.1 1.3]\n",
            " [6.3 3.3 6.  2.5]\n",
            " [5.8 2.7 5.1 1.9]\n",
            " [7.1 3.  5.9 2.1]\n",
            " [6.3 2.9 5.6 1.8]\n",
            " [6.5 3.  5.8 2.2]\n",
            " [7.6 3.  6.6 2.1]\n",
            " [4.9 2.5 4.5 1.7]\n",
            " [7.3 2.9 6.3 1.8]\n",
            " [6.7 2.5 5.8 1.8]\n",
            " [7.2 3.6 6.1 2.5]\n",
            " [6.5 3.2 5.1 2. ]\n",
            " [6.4 2.7 5.3 1.9]\n",
            " [6.8 3.  5.5 2.1]\n",
            " [5.7 2.5 5.  2. ]\n",
            " [5.8 2.8 5.1 2.4]\n",
            " [6.4 3.2 5.3 2.3]\n",
            " [6.5 3.  5.5 1.8]\n",
            " [7.7 3.8 6.7 2.2]\n",
            " [7.7 2.6 6.9 2.3]\n",
            " [6.  2.2 5.  1.5]\n",
            " [6.9 3.2 5.7 2.3]\n",
            " [5.6 2.8 4.9 2. ]\n",
            " [7.7 2.8 6.7 2. ]\n",
            " [6.3 2.7 4.9 1.8]\n",
            " [6.7 3.3 5.7 2.1]\n",
            " [7.2 3.2 6.  1.8]\n",
            " [6.2 2.8 4.8 1.8]\n",
            " [6.1 3.  4.9 1.8]\n",
            " [6.4 2.8 5.6 2.1]\n",
            " [7.2 3.  5.8 1.6]\n",
            " [7.4 2.8 6.1 1.9]\n",
            " [7.9 3.8 6.4 2. ]\n",
            " [6.4 2.8 5.6 2.2]\n",
            " [6.3 2.8 5.1 1.5]\n",
            " [6.1 2.6 5.6 1.4]\n",
            " [7.7 3.  6.1 2.3]\n",
            " [6.3 3.4 5.6 2.4]\n",
            " [6.4 3.1 5.5 1.8]\n",
            " [6.  3.  4.8 1.8]\n",
            " [6.9 3.1 5.4 2.1]\n",
            " [6.7 3.1 5.6 2.4]\n",
            " [6.9 3.1 5.1 2.3]\n",
            " [5.8 2.7 5.1 1.9]\n",
            " [6.8 3.2 5.9 2.3]\n",
            " [6.7 3.3 5.7 2.5]\n",
            " [6.7 3.  5.2 2.3]\n",
            " [6.3 2.5 5.  1.9]\n",
            " [6.5 3.  5.2 2. ]\n",
            " [6.2 3.4 5.4 2.3]\n",
            " [5.9 3.  5.1 1.8]]\n",
            "['setosa' 'versicolor' 'virginica']\n",
            "[0 0 0 0 0 0 0 0 0 0 0 0 0 0 0 0 0 0 0 0 0 0 0 0 0 0 0 0 0 0 0 0 0 0 0 0 0\n",
            " 0 0 0 0 0 0 0 0 0 0 0 0 0 1 1 1 1 1 1 1 1 1 1 1 1 1 1 1 1 1 1 1 1 1 1 1 1\n",
            " 1 1 1 1 1 1 1 1 1 1 1 1 1 1 1 1 1 1 1 1 1 1 1 1 1 1 2 2 2 2 2 2 2 2 2 2 2\n",
            " 2 2 2 2 2 2 2 2 2 2 2 2 2 2 2 2 2 2 2 2 2 2 2 2 2 2 2 2 2 2 2 2 2 2 2 2 2\n",
            " 2 2]\n"
          ]
        }
      ],
      "source": [
        "irisData = datasets.load_iris()\n",
        "print (irisData.feature_names)\n",
        "print (irisData.data)\n",
        "print (irisData.target_names)\n",
        "print (irisData.target)"
      ]
    },
    {
      "cell_type": "code",
      "source": [
        "iris_df = pd.DataFrame(data=irisData.data, columns=irisData.feature_names)\n",
        "iris_df['target'] = irisData.target\n",
        "iris_df['target_names'] = iris_df['target'].map({0: irisData.target_names[0],\n",
        "                                                 1: irisData.target_names[1],\n",
        "                                                 2: irisData.target_names[2]})"
      ],
      "metadata": {
        "id": "p4PpE4aB25-X"
      },
      "execution_count": 5,
      "outputs": []
    },
    {
      "cell_type": "code",
      "source": [
        "iris_df.head()"
      ],
      "metadata": {
        "colab": {
          "base_uri": "https://localhost:8080/",
          "height": 206
        },
        "id": "POn5_Avl3F8b",
        "outputId": "4ca609d2-edb2-4cec-9a36-ad0495f67be2"
      },
      "execution_count": 6,
      "outputs": [
        {
          "output_type": "execute_result",
          "data": {
            "text/plain": [
              "   sepal length (cm)  sepal width (cm)  petal length (cm)  petal width (cm)  \\\n",
              "0                5.1               3.5                1.4               0.2   \n",
              "1                4.9               3.0                1.4               0.2   \n",
              "2                4.7               3.2                1.3               0.2   \n",
              "3                4.6               3.1                1.5               0.2   \n",
              "4                5.0               3.6                1.4               0.2   \n",
              "\n",
              "   target target_names  \n",
              "0       0       setosa  \n",
              "1       0       setosa  \n",
              "2       0       setosa  \n",
              "3       0       setosa  \n",
              "4       0       setosa  "
            ],
            "text/html": [
              "\n",
              "  <div id=\"df-7dc4e7e3-c8bc-4dc3-94cb-cbbd73399442\" class=\"colab-df-container\">\n",
              "    <div>\n",
              "<style scoped>\n",
              "    .dataframe tbody tr th:only-of-type {\n",
              "        vertical-align: middle;\n",
              "    }\n",
              "\n",
              "    .dataframe tbody tr th {\n",
              "        vertical-align: top;\n",
              "    }\n",
              "\n",
              "    .dataframe thead th {\n",
              "        text-align: right;\n",
              "    }\n",
              "</style>\n",
              "<table border=\"1\" class=\"dataframe\">\n",
              "  <thead>\n",
              "    <tr style=\"text-align: right;\">\n",
              "      <th></th>\n",
              "      <th>sepal length (cm)</th>\n",
              "      <th>sepal width (cm)</th>\n",
              "      <th>petal length (cm)</th>\n",
              "      <th>petal width (cm)</th>\n",
              "      <th>target</th>\n",
              "      <th>target_names</th>\n",
              "    </tr>\n",
              "  </thead>\n",
              "  <tbody>\n",
              "    <tr>\n",
              "      <th>0</th>\n",
              "      <td>5.1</td>\n",
              "      <td>3.5</td>\n",
              "      <td>1.4</td>\n",
              "      <td>0.2</td>\n",
              "      <td>0</td>\n",
              "      <td>setosa</td>\n",
              "    </tr>\n",
              "    <tr>\n",
              "      <th>1</th>\n",
              "      <td>4.9</td>\n",
              "      <td>3.0</td>\n",
              "      <td>1.4</td>\n",
              "      <td>0.2</td>\n",
              "      <td>0</td>\n",
              "      <td>setosa</td>\n",
              "    </tr>\n",
              "    <tr>\n",
              "      <th>2</th>\n",
              "      <td>4.7</td>\n",
              "      <td>3.2</td>\n",
              "      <td>1.3</td>\n",
              "      <td>0.2</td>\n",
              "      <td>0</td>\n",
              "      <td>setosa</td>\n",
              "    </tr>\n",
              "    <tr>\n",
              "      <th>3</th>\n",
              "      <td>4.6</td>\n",
              "      <td>3.1</td>\n",
              "      <td>1.5</td>\n",
              "      <td>0.2</td>\n",
              "      <td>0</td>\n",
              "      <td>setosa</td>\n",
              "    </tr>\n",
              "    <tr>\n",
              "      <th>4</th>\n",
              "      <td>5.0</td>\n",
              "      <td>3.6</td>\n",
              "      <td>1.4</td>\n",
              "      <td>0.2</td>\n",
              "      <td>0</td>\n",
              "      <td>setosa</td>\n",
              "    </tr>\n",
              "  </tbody>\n",
              "</table>\n",
              "</div>\n",
              "    <div class=\"colab-df-buttons\">\n",
              "\n",
              "  <div class=\"colab-df-container\">\n",
              "    <button class=\"colab-df-convert\" onclick=\"convertToInteractive('df-7dc4e7e3-c8bc-4dc3-94cb-cbbd73399442')\"\n",
              "            title=\"Convert this dataframe to an interactive table.\"\n",
              "            style=\"display:none;\">\n",
              "\n",
              "  <svg xmlns=\"http://www.w3.org/2000/svg\" height=\"24px\" viewBox=\"0 -960 960 960\">\n",
              "    <path d=\"M120-120v-720h720v720H120Zm60-500h600v-160H180v160Zm220 220h160v-160H400v160Zm0 220h160v-160H400v160ZM180-400h160v-160H180v160Zm440 0h160v-160H620v160ZM180-180h160v-160H180v160Zm440 0h160v-160H620v160Z\"/>\n",
              "  </svg>\n",
              "    </button>\n",
              "\n",
              "  <style>\n",
              "    .colab-df-container {\n",
              "      display:flex;\n",
              "      gap: 12px;\n",
              "    }\n",
              "\n",
              "    .colab-df-convert {\n",
              "      background-color: #E8F0FE;\n",
              "      border: none;\n",
              "      border-radius: 50%;\n",
              "      cursor: pointer;\n",
              "      display: none;\n",
              "      fill: #1967D2;\n",
              "      height: 32px;\n",
              "      padding: 0 0 0 0;\n",
              "      width: 32px;\n",
              "    }\n",
              "\n",
              "    .colab-df-convert:hover {\n",
              "      background-color: #E2EBFA;\n",
              "      box-shadow: 0px 1px 2px rgba(60, 64, 67, 0.3), 0px 1px 3px 1px rgba(60, 64, 67, 0.15);\n",
              "      fill: #174EA6;\n",
              "    }\n",
              "\n",
              "    .colab-df-buttons div {\n",
              "      margin-bottom: 4px;\n",
              "    }\n",
              "\n",
              "    [theme=dark] .colab-df-convert {\n",
              "      background-color: #3B4455;\n",
              "      fill: #D2E3FC;\n",
              "    }\n",
              "\n",
              "    [theme=dark] .colab-df-convert:hover {\n",
              "      background-color: #434B5C;\n",
              "      box-shadow: 0px 1px 3px 1px rgba(0, 0, 0, 0.15);\n",
              "      filter: drop-shadow(0px 1px 2px rgba(0, 0, 0, 0.3));\n",
              "      fill: #FFFFFF;\n",
              "    }\n",
              "  </style>\n",
              "\n",
              "    <script>\n",
              "      const buttonEl =\n",
              "        document.querySelector('#df-7dc4e7e3-c8bc-4dc3-94cb-cbbd73399442 button.colab-df-convert');\n",
              "      buttonEl.style.display =\n",
              "        google.colab.kernel.accessAllowed ? 'block' : 'none';\n",
              "\n",
              "      async function convertToInteractive(key) {\n",
              "        const element = document.querySelector('#df-7dc4e7e3-c8bc-4dc3-94cb-cbbd73399442');\n",
              "        const dataTable =\n",
              "          await google.colab.kernel.invokeFunction('convertToInteractive',\n",
              "                                                    [key], {});\n",
              "        if (!dataTable) return;\n",
              "\n",
              "        const docLinkHtml = 'Like what you see? Visit the ' +\n",
              "          '<a target=\"_blank\" href=https://colab.research.google.com/notebooks/data_table.ipynb>data table notebook</a>'\n",
              "          + ' to learn more about interactive tables.';\n",
              "        element.innerHTML = '';\n",
              "        dataTable['output_type'] = 'display_data';\n",
              "        await google.colab.output.renderOutput(dataTable, element);\n",
              "        const docLink = document.createElement('div');\n",
              "        docLink.innerHTML = docLinkHtml;\n",
              "        element.appendChild(docLink);\n",
              "      }\n",
              "    </script>\n",
              "  </div>\n",
              "\n",
              "\n",
              "<div id=\"df-0d89aa67-1923-4d16-9aef-8155a829098e\">\n",
              "  <button class=\"colab-df-quickchart\" onclick=\"quickchart('df-0d89aa67-1923-4d16-9aef-8155a829098e')\"\n",
              "            title=\"Suggest charts\"\n",
              "            style=\"display:none;\">\n",
              "\n",
              "<svg xmlns=\"http://www.w3.org/2000/svg\" height=\"24px\"viewBox=\"0 0 24 24\"\n",
              "     width=\"24px\">\n",
              "    <g>\n",
              "        <path d=\"M19 3H5c-1.1 0-2 .9-2 2v14c0 1.1.9 2 2 2h14c1.1 0 2-.9 2-2V5c0-1.1-.9-2-2-2zM9 17H7v-7h2v7zm4 0h-2V7h2v10zm4 0h-2v-4h2v4z\"/>\n",
              "    </g>\n",
              "</svg>\n",
              "  </button>\n",
              "\n",
              "<style>\n",
              "  .colab-df-quickchart {\n",
              "      --bg-color: #E8F0FE;\n",
              "      --fill-color: #1967D2;\n",
              "      --hover-bg-color: #E2EBFA;\n",
              "      --hover-fill-color: #174EA6;\n",
              "      --disabled-fill-color: #AAA;\n",
              "      --disabled-bg-color: #DDD;\n",
              "  }\n",
              "\n",
              "  [theme=dark] .colab-df-quickchart {\n",
              "      --bg-color: #3B4455;\n",
              "      --fill-color: #D2E3FC;\n",
              "      --hover-bg-color: #434B5C;\n",
              "      --hover-fill-color: #FFFFFF;\n",
              "      --disabled-bg-color: #3B4455;\n",
              "      --disabled-fill-color: #666;\n",
              "  }\n",
              "\n",
              "  .colab-df-quickchart {\n",
              "    background-color: var(--bg-color);\n",
              "    border: none;\n",
              "    border-radius: 50%;\n",
              "    cursor: pointer;\n",
              "    display: none;\n",
              "    fill: var(--fill-color);\n",
              "    height: 32px;\n",
              "    padding: 0;\n",
              "    width: 32px;\n",
              "  }\n",
              "\n",
              "  .colab-df-quickchart:hover {\n",
              "    background-color: var(--hover-bg-color);\n",
              "    box-shadow: 0 1px 2px rgba(60, 64, 67, 0.3), 0 1px 3px 1px rgba(60, 64, 67, 0.15);\n",
              "    fill: var(--button-hover-fill-color);\n",
              "  }\n",
              "\n",
              "  .colab-df-quickchart-complete:disabled,\n",
              "  .colab-df-quickchart-complete:disabled:hover {\n",
              "    background-color: var(--disabled-bg-color);\n",
              "    fill: var(--disabled-fill-color);\n",
              "    box-shadow: none;\n",
              "  }\n",
              "\n",
              "  .colab-df-spinner {\n",
              "    border: 2px solid var(--fill-color);\n",
              "    border-color: transparent;\n",
              "    border-bottom-color: var(--fill-color);\n",
              "    animation:\n",
              "      spin 1s steps(1) infinite;\n",
              "  }\n",
              "\n",
              "  @keyframes spin {\n",
              "    0% {\n",
              "      border-color: transparent;\n",
              "      border-bottom-color: var(--fill-color);\n",
              "      border-left-color: var(--fill-color);\n",
              "    }\n",
              "    20% {\n",
              "      border-color: transparent;\n",
              "      border-left-color: var(--fill-color);\n",
              "      border-top-color: var(--fill-color);\n",
              "    }\n",
              "    30% {\n",
              "      border-color: transparent;\n",
              "      border-left-color: var(--fill-color);\n",
              "      border-top-color: var(--fill-color);\n",
              "      border-right-color: var(--fill-color);\n",
              "    }\n",
              "    40% {\n",
              "      border-color: transparent;\n",
              "      border-right-color: var(--fill-color);\n",
              "      border-top-color: var(--fill-color);\n",
              "    }\n",
              "    60% {\n",
              "      border-color: transparent;\n",
              "      border-right-color: var(--fill-color);\n",
              "    }\n",
              "    80% {\n",
              "      border-color: transparent;\n",
              "      border-right-color: var(--fill-color);\n",
              "      border-bottom-color: var(--fill-color);\n",
              "    }\n",
              "    90% {\n",
              "      border-color: transparent;\n",
              "      border-bottom-color: var(--fill-color);\n",
              "    }\n",
              "  }\n",
              "</style>\n",
              "\n",
              "  <script>\n",
              "    async function quickchart(key) {\n",
              "      const quickchartButtonEl =\n",
              "        document.querySelector('#' + key + ' button');\n",
              "      quickchartButtonEl.disabled = true;  // To prevent multiple clicks.\n",
              "      quickchartButtonEl.classList.add('colab-df-spinner');\n",
              "      try {\n",
              "        const charts = await google.colab.kernel.invokeFunction(\n",
              "            'suggestCharts', [key], {});\n",
              "      } catch (error) {\n",
              "        console.error('Error during call to suggestCharts:', error);\n",
              "      }\n",
              "      quickchartButtonEl.classList.remove('colab-df-spinner');\n",
              "      quickchartButtonEl.classList.add('colab-df-quickchart-complete');\n",
              "    }\n",
              "    (() => {\n",
              "      let quickchartButtonEl =\n",
              "        document.querySelector('#df-0d89aa67-1923-4d16-9aef-8155a829098e button');\n",
              "      quickchartButtonEl.style.display =\n",
              "        google.colab.kernel.accessAllowed ? 'block' : 'none';\n",
              "    })();\n",
              "  </script>\n",
              "</div>\n",
              "    </div>\n",
              "  </div>\n"
            ]
          },
          "metadata": {},
          "execution_count": 6
        }
      ]
    },
    {
      "cell_type": "code",
      "source": [
        "Counter(irisData.target)"
      ],
      "metadata": {
        "colab": {
          "base_uri": "https://localhost:8080/"
        },
        "id": "ekVI7vuP3LGW",
        "outputId": "edbfac5c-d051-4c89-d8e8-6d5f9cdbfd3d"
      },
      "execution_count": 9,
      "outputs": [
        {
          "output_type": "execute_result",
          "data": {
            "text/plain": [
              "Counter({0: 50, 1: 50, 2: 50})"
            ]
          },
          "metadata": {},
          "execution_count": 9
        }
      ]
    },
    {
      "cell_type": "code",
      "source": [
        "irisData.data.shape"
      ],
      "metadata": {
        "colab": {
          "base_uri": "https://localhost:8080/"
        },
        "id": "tZsESvQ14KQg",
        "outputId": "8d3d0fe2-687c-4c47-8882-a5b9e1923366"
      },
      "execution_count": 11,
      "outputs": [
        {
          "output_type": "execute_result",
          "data": {
            "text/plain": [
              "(150, 4)"
            ]
          },
          "metadata": {},
          "execution_count": 11
        }
      ]
    },
    {
      "cell_type": "code",
      "source": [
        "def plot_2D(data=irisData.data, target=irisData.target, target_names=irisData.target_names):\n",
        "    colors = cycle('rgbcmykw')\n",
        "    target_ids = range(len(target_names))\n",
        "    pl.figure()\n",
        "    for i, c, label in zip(target_ids, colors, target_names):\n",
        "        pl.scatter(data[target == i, 2], data[target == i, 3], c=c, label=label)\n",
        "\n",
        "    pl.plot([2.5, 2.5], [0, 3])\n",
        "    pl.plot([0.75, 7], [0.75, 0.75])\n",
        "    pl.legend()\n",
        "\n",
        "    # Set labels for x and y axes\n",
        "    pl.xlabel('Petal Length')\n",
        "    pl.ylabel('Petal Width')\n",
        "\n",
        "    pl.show()"
      ],
      "metadata": {
        "id": "KjrVZ30m8gwx"
      },
      "execution_count": 18,
      "outputs": []
    },
    {
      "cell_type": "code",
      "source": [
        "plot_2D()"
      ],
      "metadata": {
        "colab": {
          "base_uri": "https://localhost:8080/",
          "height": 449
        },
        "id": "9HNi7_KA8sH_",
        "outputId": "a8a6cce8-4786-4064-f7ea-475abb0de5aa"
      },
      "execution_count": 19,
      "outputs": [
        {
          "output_type": "display_data",
          "data": {
            "text/plain": [
              "<Figure size 640x480 with 1 Axes>"
            ],
            "image/png": "[encoded data removed]"
          },
          "metadata": {}
        }
      ]
    },
    {
      "cell_type": "code",
      "source": [
        "nb = naive_bayes.MultinomialNB(fit_prior=True)\n",
        "nb.fit(irisData.data[:], irisData.target[:])\n",
        "p31 = nb.predict(irisData.data[[31]])\n",
        "print (p31)\n",
        "plast = nb.predict(irisData.data[[-1]])\n",
        "print (plast)\n",
        "p = nb.predict(irisData.data[:])\n",
        "print (p)"
      ],
      "metadata": {
        "colab": {
          "base_uri": "https://localhost:8080/"
        },
        "id": "MWR-d5ZKHbc9",
        "outputId": "785635f1-3dd1-4e0c-f6fa-16cb75e67946"
      },
      "execution_count": 22,
      "outputs": [
        {
          "output_type": "stream",
          "name": "stdout",
          "text": [
            "[0]\n",
            "[2]\n",
            "[0 0 0 0 0 0 0 0 0 0 0 0 0 0 0 0 0 0 0 0 0 0 0 0 0 0 0 0 0 0 0 0 0 0 0 0 0\n",
            " 0 0 0 0 0 0 0 0 0 0 0 0 0 1 1 1 1 1 1 1 1 1 1 1 1 1 1 1 1 1 1 2 1 2 1 2 1\n",
            " 1 1 1 1 1 1 1 1 1 2 1 1 1 1 1 1 1 1 1 1 1 1 1 1 1 1 2 2 2 2 2 2 2 2 2 2 2\n",
            " 2 2 2 2 2 2 2 2 2 2 2 2 2 2 2 2 2 2 1 2 1 2 1 2 2 2 2 2 2 2 2 2 2 2 2 2 2\n",
            " 2 2]\n"
          ]
        }
      ]
    },
    {
      "cell_type": "code",
      "source": [
        "nb1 = naive_bayes.MultinomialNB(fit_prior=True)\n",
        "nb1.fit(irisData.data[:99], irisData.target[:99])\n",
        "nb1.predict(irisData.data[100:149])\n"
      ],
      "metadata": {
        "colab": {
          "base_uri": "https://localhost:8080/"
        },
        "id": "ca6iNVwHInLo",
        "outputId": "51b70cc7-19e2-4907-8fcf-7444d47cabef"
      },
      "execution_count": 23,
      "outputs": [
        {
          "output_type": "execute_result",
          "data": {
            "text/plain": [
              "array([1, 1, 1, 1, 1, 1, 1, 1, 1, 1, 1, 1, 1, 1, 1, 1, 1, 1, 1, 1, 1, 1,\n",
              "       1, 1, 1, 1, 1, 1, 1, 1, 1, 1, 1, 1, 1, 1, 1, 1, 1, 1, 1, 1, 1, 1,\n",
              "       1, 1, 1, 1, 1])"
            ]
          },
          "metadata": {},
          "execution_count": 23
        }
      ]
    },
    {
      "cell_type": "code",
      "source": [
        "print(\"method 1\")\n",
        "ea = 0\n",
        "for i in range(len(irisData.data)):\n",
        "  if (p[i] !=irisData.target[i]):\n",
        "    ea = ea+1\n",
        "print(f'error rate: {ea/len(irisData.data)}')"
      ],
      "metadata": {
        "colab": {
          "base_uri": "https://localhost:8080/"
        },
        "id": "mJg-FPBMMHJk",
        "outputId": "d9a3832b-0016-434b-98ec-f09df102ee0d"
      },
      "execution_count": 24,
      "outputs": [
        {
          "output_type": "stream",
          "name": "stdout",
          "text": [
            "method 1\n",
            "error rate: 0.04666666666666667\n"
          ]
        }
      ]
    },
    {
      "cell_type": "code",
      "source": [
        "print(\"method 2\")\n",
        "print(f'number of non null values : {len(np.nonzero(p-irisData.target)[0])}')\n",
        "print(f'error rate : {len(np.nonzero(p-irisData.target)[0])/150}')"
      ],
      "metadata": {
        "colab": {
          "base_uri": "https://localhost:8080/"
        },
        "id": "eEUwND8aNPEi",
        "outputId": "7df0f232-f279-4590-b425-bc57a22cca93"
      },
      "execution_count": 25,
      "outputs": [
        {
          "output_type": "stream",
          "name": "stdout",
          "text": [
            "method 2\n",
            "number of non null values : 7\n",
            "error rate : 0.04666666666666667\n"
          ]
        }
      ]
    },
    {
      "cell_type": "code",
      "source": [
        "print(\"method 3\")\n",
        "print(f'error rate : {1-nb.score(irisData.data,irisData.target)}')\n"
      ],
      "metadata": {
        "colab": {
          "base_uri": "https://localhost:8080/"
        },
        "id": "UNdxUAh9NQRC",
        "outputId": "ba3eec7b-4c92-4f8e-c1ec-b9d07791f50d"
      },
      "execution_count": 26,
      "outputs": [
        {
          "output_type": "stream",
          "name": "stdout",
          "text": [
            "method 3\n",
            "error rate : 0.046666666666666634\n"
          ]
        }
      ]
    },
    {
      "cell_type": "code",
      "source": [
        "#question 1:\n",
        "import random\n",
        "\n",
        "def split(S, random_state=None, train_split=2/3, stratify=True):\n",
        "    indexes = list(range(len(S.data)))\n",
        "\n",
        "    random.seed(random_state)\n",
        "    random.shuffle(indexes)\n",
        "\n",
        "    if stratify:\n",
        "        class_indices = {}\n",
        "        for i, label in enumerate(S.target):\n",
        "            if label not in class_indices:\n",
        "                class_indices[label] = []\n",
        "            class_indices[label].append(indexes[i])\n",
        "\n",
        "        train_size_per_class = {label: int(train_split * len(indices)) for label, indices in class_indices.items()}\n",
        "\n",
        "        train_indices = []\n",
        "        test_indices = []\n",
        "        for label in class_indices.keys():\n",
        "                train_indices.extend(class_indices[label][:train_size_per_class[label]])\n",
        "                test_indices.extend(class_indices[label][train_size_per_class[label]:])\n",
        "\n",
        "    else:\n",
        "        train_size = int(train_split * len(S.data))\n",
        "        train_indices = indexes[:train_size]\n",
        "        test_indices = indexes[train_size:]\n",
        "\n",
        "    X_train = S.data[train_indices]\n",
        "    y_train = S.target[train_indices]\n",
        "    X_test = S.data[test_indices]\n",
        "    y_test = S.target[test_indices]\n",
        "\n",
        "    return X_train, y_train, X_test, y_test"
      ],
      "metadata": {
        "id": "dNzbTkheT0Fb"
      },
      "execution_count": 28,
      "outputs": []
    },
    {
      "cell_type": "code",
      "source": [
        "X_train,y_train,X_test,y_test=split(irisData)\n",
        "\n",
        "print(f'size of X_train: {len(X_train)} with shape : {X_train.shape}')\n",
        "print(f'size of X_test : {len(X_test)} with shape : {X_test.shape}')\n",
        "print(f'size of y_train: {len(y_train)} with shape : {y_train.shape}')\n",
        "print(f'size of y_test : {len(y_test)} with shape : {y_test.shape}')"
      ],
      "metadata": {
        "colab": {
          "base_uri": "https://localhost:8080/"
        },
        "id": "8yykcY4hUJFd",
        "outputId": "80a64e86-b8a9-4a8b-8e53-ca36d1e3c7f6"
      },
      "execution_count": 29,
      "outputs": [
        {
          "output_type": "stream",
          "name": "stdout",
          "text": [
            "size of X_train: 99 with shape : (99, 4)\n",
            "size of X_test : 51 with shape : (51, 4)\n",
            "size of y_train: 99 with shape : (99,)\n",
            "size of y_test : 51 with shape : (51,)\n"
          ]
        }
      ]
    },
    {
      "cell_type": "code",
      "source": [
        "#question 2\n",
        "def test(S,clf,train_split=2/3):\n",
        "  X_train,y_train,X_test,y_test=split(S,train_split=train_split)\n",
        "  clf.fit(X_train,y_train)\n",
        "\n",
        "  predictions=clf.predict(X_test)\n",
        "  error = len(np.nonzero(predictions-y_test)[0])/len(y_test)\n",
        "\n",
        "  return error"
      ],
      "metadata": {
        "id": "5QOTpLFUfxTJ"
      },
      "execution_count": 30,
      "outputs": []
    },
    {
      "cell_type": "code",
      "source": [
        "\n",
        "clf = naive_bayes.MultinomialNB(fit_prior=True)\n",
        "error_rate = test(irisData, clf)\n",
        "\n",
        "print(\"Taux d'erreur estimé avec Naive Bayes en utilisant split:\", error_rate)"
      ],
      "metadata": {
        "colab": {
          "base_uri": "https://localhost:8080/"
        },
        "id": "GnVoB4X8fyU6",
        "outputId": "5964d93a-6f0c-4211-c6f6-e18a7b198c22"
      },
      "execution_count": 31,
      "outputs": [
        {
          "output_type": "stream",
          "name": "stdout",
          "text": [
            "Taux d'erreur estimé avec Naive Bayes en utilisant split: 0.0392156862745098\n"
          ]
        }
      ]
    },
    {
      "cell_type": "code",
      "source": [
        "#question 3\n",
        "def test_t(S, clf, t,train_split=2/3):\n",
        "    error_rates = []\n",
        "    for _ in range(t):\n",
        "        error_rate = test(S, clf,train_split=train_split)\n",
        "        error_rates.append(error_rate)\n",
        "    mean_error = np.mean(error_rates)\n",
        "    return mean_error, error_rates"
      ],
      "metadata": {
        "id": "qxt2fuQIhuHW"
      },
      "execution_count": 32,
      "outputs": []
    },
    {
      "cell_type": "code",
      "source": [
        "ts = [10, 50, 100, 200, 500, 1000]\n",
        "repetitions = 20\n",
        "result_table2 = PrettyTable(['t', 'Mean Error'])\n",
        "\n",
        "for t in ts:\n",
        "    clf =  naive_bayes.MultinomialNB(fit_prior=True)\n",
        "    mean_errors = []\n",
        "    for _ in range(repetitions):\n",
        "        mean_error, _ = test_t(irisData, clf, t)\n",
        "        mean_errors.append(mean_error)\n",
        "    error_rate = np.mean(mean_errors)\n",
        "    result_table2.add_row([t, f\"{error_rate:.4f}\"])\n",
        "\n",
        "    print(f\"Taux d'erreur moyen pour t={t}: {error_rate}\")\n",
        "\n",
        "print(result_table2)"
      ],
      "metadata": {
        "colab": {
          "base_uri": "https://localhost:8080/"
        },
        "id": "uxs2woOdhwur",
        "outputId": "772cec7d-21f2-41ee-d7cd-204f2b58f8fb"
      },
      "execution_count": 37,
      "outputs": [
        {
          "output_type": "stream",
          "name": "stdout",
          "text": [
            "Taux d'erreur moyen pour t=10: 0.21000000000000002\n",
            "Taux d'erreur moyen pour t=50: 0.20862745098039212\n",
            "Taux d'erreur moyen pour t=100: 0.2044803921568627\n",
            "Taux d'erreur moyen pour t=200: 0.20183823529411762\n",
            "Taux d'erreur moyen pour t=500: 0.20471176470588234\n",
            "Taux d'erreur moyen pour t=1000: 0.20409313725490197\n",
            "+------+------------+\n",
            "|  t   | Mean Error |\n",
            "+------+------------+\n",
            "|  10  |   0.2100   |\n",
            "|  50  |   0.2086   |\n",
            "| 100  |   0.2045   |\n",
            "| 200  |   0.2018   |\n",
            "| 500  |   0.2047   |\n",
            "| 1000 |   0.2041   |\n",
            "+------+------------+\n"
          ]
        }
      ]
    },
    {
      "cell_type": "code",
      "source": [
        "#question 4\n",
        "ts = [10, 50, 100, 200, 500, 1000]\n",
        "repetitions = 20\n",
        "result_table1 = PrettyTable(['t', 'Mean Error'])\n",
        "\n",
        "for t in ts:\n",
        "    clf =  naive_bayes.MultinomialNB(fit_prior=True)\n",
        "    mean_errors = []\n",
        "    for _ in range(repetitions):\n",
        "        mean_error, _ = test_t(irisData, clf, t,train_split=0.9)\n",
        "        mean_errors.append(mean_error)\n",
        "    error_rate = np.mean(mean_errors)\n",
        "    result_table1.add_row([t, f\"{error_rate:.4f}\"])\n",
        "    print(f\"Taux d'erreur moyen pour t={t}: {error_rate}\")\n",
        "print(result_table1)"
      ],
      "metadata": {
        "colab": {
          "base_uri": "https://localhost:8080/"
        },
        "id": "w3cm4SvyiIfh",
        "outputId": "781be3b5-c4b3-42bd-db6c-40188d1a581b"
      },
      "execution_count": 38,
      "outputs": [
        {
          "output_type": "stream",
          "name": "stdout",
          "text": [
            "Taux d'erreur moyen pour t=10: 0.11433333333333333\n",
            "Taux d'erreur moyen pour t=50: 0.12293333333333331\n",
            "Taux d'erreur moyen pour t=100: 0.12376666666666666\n",
            "Taux d'erreur moyen pour t=200: 0.12268333333333334\n",
            "Taux d'erreur moyen pour t=500: 0.1212\n",
            "Taux d'erreur moyen pour t=1000: 0.12222999999999998\n",
            "+------+------------+\n",
            "|  t   | Mean Error |\n",
            "+------+------------+\n",
            "|  10  |   0.1143   |\n",
            "|  50  |   0.1229   |\n",
            "| 100  |   0.1238   |\n",
            "| 200  |   0.1227   |\n",
            "| 500  |   0.1212   |\n",
            "| 1000 |   0.1222   |\n",
            "+------+------------+\n"
          ]
        }
      ]
    },
    {
      "cell_type": "code",
      "source": [
        "#question 5\n",
        "from sklearn.metrics import accuracy_score\n",
        "\n",
        "test_sizes = [0.1,0.2, 0.25,0.3, 0.33, 0.4, 0.7]\n",
        "result_table = PrettyTable(['Test Size', 'Error Rate'])\n",
        "error_rates = []\n",
        "for test_size in test_sizes:\n",
        "    clf =  naive_bayes.MultinomialNB(fit_prior=True)\n",
        "    # Split the data into training and testing sets\n",
        "    X_train, X_test, y_train, y_test = train_test_split(\n",
        "        irisData.data, irisData.target, test_size=test_size,stratify=irisData.target\n",
        "    )\n",
        "    clf.fit(X_train, y_train)\n",
        "    predictions = clf.predict(X_test)\n",
        "    error_rate = 1 - accuracy_score(y_test, predictions)\n",
        "    error_rates.append(error_rate)\n",
        "    result_table.add_row([test_size, f\"{error_rate:.4f}\"])\n",
        "    print(f\"Test Size: {test_size}, error rate: {error_rate}\")\n",
        "print(result_table)"
      ],
      "metadata": {
        "colab": {
          "base_uri": "https://localhost:8080/"
        },
        "id": "viedRmfqjP6v",
        "outputId": "ef99e583-f6a2-4b0c-b7b3-0f4cf2de3801"
      },
      "execution_count": 39,
      "outputs": [
        {
          "output_type": "stream",
          "name": "stdout",
          "text": [
            "Test Size: 0.1, error rate: 0.0\n",
            "Test Size: 0.2, error rate: 0.033333333333333326\n",
            "Test Size: 0.25, error rate: 0.052631578947368474\n",
            "Test Size: 0.3, error rate: 0.0444444444444444\n",
            "Test Size: 0.33, error rate: 0.07999999999999996\n",
            "Test Size: 0.4, error rate: 0.050000000000000044\n",
            "Test Size: 0.7, error rate: 0.05714285714285716\n",
            "+-----------+------------+\n",
            "| Test Size | Error Rate |\n",
            "+-----------+------------+\n",
            "|    0.1    |   0.0000   |\n",
            "|    0.2    |   0.0333   |\n",
            "|    0.25   |   0.0526   |\n",
            "|    0.3    |   0.0444   |\n",
            "|    0.33   |   0.0800   |\n",
            "|    0.4    |   0.0500   |\n",
            "|    0.7    |   0.0571   |\n",
            "+-----------+------------+\n"
          ]
        }
      ]
    },
    {
      "cell_type": "code",
      "source": [
        "\n",
        "import matplotlib.pyplot as plt\n",
        "\n",
        "plt.plot(test_sizes, error_rates, marker='o')\n",
        "plt.title('Error Rate vs. Test Size')\n",
        "plt.xlabel('Test Size')\n",
        "plt.ylabel('Error Rate')\n",
        "plt.show()"
      ],
      "metadata": {
        "colab": {
          "base_uri": "https://localhost:8080/",
          "height": 472
        },
        "id": "AzBdhq4ujSBG",
        "outputId": "274c4f0c-8906-4729-f08f-0d4e75eb16ea"
      },
      "execution_count": 40,
      "outputs": [
        {
          "output_type": "display_data",
          "data": {
            "text/plain": [
              "<Figure size 640x480 with 1 Axes>"
            ],
            "image/png": "[encoded data removed]"
          },
          "metadata": {}
        }
      ]
    },
    {
      "cell_type": "code",
      "source": [
        "\n",
        "clf =  naive_bayes.MultinomialNB(fit_prior=True)\n",
        "num_folds = [2, 3, 5, 8, 10]\n",
        "summary_table = PrettyTable(['Folds', 'Mean Error Rate'])\n",
        "error_rates=[]\n",
        "for folds in num_folds:\n",
        "    scores = cross_val_score(clf, irisData.data, irisData.target, cv=folds)\n",
        "    mean_error_rate = 1 - scores.mean()\n",
        "    error_rates.append(mean_error_rate)\n",
        "    summary_table.add_row([folds, f\"{mean_error_rate:.4f}\"])\n",
        "print(summary_table)"
      ],
      "metadata": {
        "colab": {
          "base_uri": "https://localhost:8080/"
        },
        "id": "tFk6uGLvk9bB",
        "outputId": "75931967-339e-483a-973f-8052331acc0c"
      },
      "execution_count": 41,
      "outputs": [
        {
          "output_type": "stream",
          "name": "stdout",
          "text": [
            "+-------+-----------------+\n",
            "| Folds | Mean Error Rate |\n",
            "+-------+-----------------+\n",
            "|   2   |      0.0467     |\n",
            "|   3   |      0.0533     |\n",
            "|   5   |      0.0467     |\n",
            "|   8   |      0.0526     |\n",
            "|   10  |      0.0467     |\n",
            "+-------+-----------------+\n"
          ]
        }
      ]
    },
    {
      "cell_type": "code",
      "source": [
        "import matplotlib.pyplot as plt\n",
        "\n",
        "plt.plot(num_folds, error_rates, marker='o')\n",
        "plt.title('Error Rate vs. Number of Folds')\n",
        "plt.xlabel('Number of Folds')\n",
        "plt.ylabel('Mean Error Rate')\n",
        "plt.show()"
      ],
      "metadata": {
        "colab": {
          "base_uri": "https://localhost:8080/",
          "height": 472
        },
        "id": "lfKysMd5lF52",
        "outputId": "92b150b8-87bb-460b-9203-6abb1ee5792b"
      },
      "execution_count": 42,
      "outputs": [
        {
          "output_type": "display_data",
          "data": {
            "text/plain": [
              "<Figure size 640x480 with 1 Axes>"
            ],
            "image/png": "[encoded data removed]"
          },
          "metadata": {}
        }
      ]
    },
    {
      "cell_type": "markdown",
      "source": [
        "**Decision** **Tree**"
      ],
      "metadata": {
        "id": "xRyGfmXplIEz"
      }
    },
    {
      "cell_type": "code",
      "source": [
        "model = DecisionTreeClassifier()# un algo d'apprentissage\n",
        "model.fit(irisData.data[:], irisData.target[:])"
      ],
      "metadata": {
        "colab": {
          "base_uri": "https://localhost:8080/",
          "height": 74
        },
        "id": "ASSPyV7MlMQ4",
        "outputId": "29ffb52a-60c2-467f-a89a-cb47d50c9a1e"
      },
      "execution_count": 43,
      "outputs": [
        {
          "output_type": "execute_result",
          "data": {
            "text/plain": [
              "DecisionTreeClassifier()"
            ],
            "text/html": [
              "<style>#sk-container-id-1 {color: black;background-color: white;}#sk-container-id-1 pre{padding: 0;}#sk-container-id-1 div.sk-toggleable {background-color: white;}#sk-container-id-1 label.sk-toggleable__label {cursor: pointer;display: block;width: 100%;margin-bottom: 0;padding: 0.3em;box-sizing: border-box;text-align: center;}#sk-container-id-1 label.sk-toggleable__label-arrow:before {content: \"▸\";float: left;margin-right: 0.25em;color: #696969;}#sk-container-id-1 label.sk-toggleable__label-arrow:hover:before {color: black;}#sk-container-id-1 div.sk-estimator:hover label.sk-toggleable__label-arrow:before {color: black;}#sk-container-id-1 div.sk-toggleable__content {max-height: 0;max-width: 0;overflow: hidden;text-align: left;background-color: #f0f8ff;}#sk-container-id-1 div.sk-toggleable__content pre {margin: 0.2em;color: black;border-radius: 0.25em;background-color: #f0f8ff;}#sk-container-id-1 input.sk-toggleable__control:checked~div.sk-toggleable__content {max-height: 200px;max-width: 100%;overflow: auto;}#sk-container-id-1 input.sk-toggleable__control:checked~label.sk-toggleable__label-arrow:before {content: \"▾\";}#sk-container-id-1 div.sk-estimator input.sk-toggleable__control:checked~label.sk-toggleable__label {background-color: #d4ebff;}#sk-container-id-1 div.sk-label input.sk-toggleable__control:checked~label.sk-toggleable__label {background-color: #d4ebff;}#sk-container-id-1 input.sk-hidden--visually {border: 0;clip: rect(1px 1px 1px 1px);clip: rect(1px, 1px, 1px, 1px);height: 1px;margin: -1px;overflow: hidden;padding: 0;position: absolute;width: 1px;}#sk-container-id-1 div.sk-estimator {font-family: monospace;background-color: #f0f8ff;border: 1px dotted black;border-radius: 0.25em;box-sizing: border-box;margin-bottom: 0.5em;}#sk-container-id-1 div.sk-estimator:hover {background-color: #d4ebff;}#sk-container-id-1 div.sk-parallel-item::after {content: \"\";width: 100%;border-bottom: 1px solid gray;flex-grow: 1;}#sk-container-id-1 div.sk-label:hover label.sk-toggleable__label {background-color: #d4ebff;}#sk-container-id-1 div.sk-serial::before {content: \"\";position: absolute;border-left: 1px solid gray;box-sizing: border-box;top: 0;bottom: 0;left: 50%;z-index: 0;}#sk-container-id-1 div.sk-serial {display: flex;flex-direction: column;align-items: center;background-color: white;padding-right: 0.2em;padding-left: 0.2em;position: relative;}#sk-container-id-1 div.sk-item {position: relative;z-index: 1;}#sk-container-id-1 div.sk-parallel {display: flex;align-items: stretch;justify-content: center;background-color: white;position: relative;}#sk-container-id-1 div.sk-item::before, #sk-container-id-1 div.sk-parallel-item::before {content: \"\";position: absolute;border-left: 1px solid gray;box-sizing: border-box;top: 0;bottom: 0;left: 50%;z-index: -1;}#sk-container-id-1 div.sk-parallel-item {display: flex;flex-direction: column;z-index: 1;position: relative;background-color: white;}#sk-container-id-1 div.sk-parallel-item:first-child::after {align-self: flex-end;width: 50%;}#sk-container-id-1 div.sk-parallel-item:last-child::after {align-self: flex-start;width: 50%;}#sk-container-id-1 div.sk-parallel-item:only-child::after {width: 0;}#sk-container-id-1 div.sk-dashed-wrapped {border: 1px dashed gray;margin: 0 0.4em 0.5em 0.4em;box-sizing: border-box;padding-bottom: 0.4em;background-color: white;}#sk-container-id-1 div.sk-label label {font-family: monospace;font-weight: bold;display: inline-block;line-height: 1.2em;}#sk-container-id-1 div.sk-label-container {text-align: center;}#sk-container-id-1 div.sk-container {/* jupyter's `normalize.less` sets `[hidden] { display: none; }` but bootstrap.min.css set `[hidden] { display: none !important; }` so we also need the `!important` here to be able to override the default hidden behavior on the sphinx rendered scikit-learn.org. See: https://github.com/scikit-learn/scikit-learn/issues/21755 */display: inline-block !important;position: relative;}#sk-container-id-1 div.sk-text-repr-fallback {display: none;}</style><div id=\"sk-container-id-1\" class=\"sk-top-container\"><div class=\"sk-text-repr-fallback\"><pre>DecisionTreeClassifier()</pre><b>In a Jupyter environment, please rerun this cell to show the HTML representation or trust the notebook. <br />On GitHub, the HTML representation is unable to render, please try loading this page with nbviewer.org.</b></div><div class=\"sk-container\" hidden><div class=\"sk-item\"><div class=\"sk-estimator sk-toggleable\"><input class=\"sk-toggleable__control sk-hidden--visually\" id=\"sk-estimator-id-1\" type=\"checkbox\" checked><label for=\"sk-estimator-id-1\" class=\"sk-toggleable__label sk-toggleable__label-arrow\">DecisionTreeClassifier</label><div class=\"sk-toggleable__content\"><pre>DecisionTreeClassifier()</pre></div></div></div></div></div>"
            ]
          },
          "metadata": {},
          "execution_count": 43
        }
      ]
    },
    {
      "cell_type": "code",
      "source": [
        "\n",
        "p31 = model.predict(irisData.data[[31]])\n",
        "print (p31)\n",
        "plast = model.predict(irisData.data[[-1]])\n",
        "print (plast)\n",
        "p = model.predict(irisData.data[:])\n",
        "print (p)\n",
        ""
      ],
      "metadata": {
        "colab": {
          "base_uri": "https://localhost:8080/"
        },
        "id": "qILMBFpJlbLx",
        "outputId": "291ae783-497c-4773-f690-19256e72a855"
      },
      "execution_count": 44,
      "outputs": [
        {
          "output_type": "stream",
          "name": "stdout",
          "text": [
            "[0]\n",
            "[2]\n",
            "[0 0 0 0 0 0 0 0 0 0 0 0 0 0 0 0 0 0 0 0 0 0 0 0 0 0 0 0 0 0 0 0 0 0 0 0 0\n",
            " 0 0 0 0 0 0 0 0 0 0 0 0 0 1 1 1 1 1 1 1 1 1 1 1 1 1 1 1 1 1 1 1 1 1 1 1 1\n",
            " 1 1 1 1 1 1 1 1 1 1 1 1 1 1 1 1 1 1 1 1 1 1 1 1 1 1 2 2 2 2 2 2 2 2 2 2 2\n",
            " 2 2 2 2 2 2 2 2 2 2 2 2 2 2 2 2 2 2 2 2 2 2 2 2 2 2 2 2 2 2 2 2 2 2 2 2 2\n",
            " 2 2]\n"
          ]
        }
      ]
    },
    {
      "cell_type": "code",
      "source": [
        "\n",
        "model1 = DecisionTreeClassifier()\n",
        "model1.fit(irisData.data[:99], irisData.target[:99])\n",
        "model1.predict(irisData.data[100:149])"
      ],
      "metadata": {
        "colab": {
          "base_uri": "https://localhost:8080/"
        },
        "id": "j4n3Akdkldq1",
        "outputId": "1edf2938-4ff5-40e3-d930-c5171ce8c971"
      },
      "execution_count": 45,
      "outputs": [
        {
          "output_type": "execute_result",
          "data": {
            "text/plain": [
              "array([1, 1, 1, 1, 1, 1, 1, 1, 1, 1, 1, 1, 1, 1, 1, 1, 1, 1, 1, 1, 1, 1,\n",
              "       1, 1, 1, 1, 1, 1, 1, 1, 1, 1, 1, 1, 1, 1, 1, 1, 1, 1, 1, 1, 1, 1,\n",
              "       1, 1, 1, 1, 1])"
            ]
          },
          "metadata": {},
          "execution_count": 45
        }
      ]
    },
    {
      "cell_type": "code",
      "source": [
        "print(\"method 1\")\n",
        "ea = 0\n",
        "for i in range(len(irisData.data)):\n",
        "  if (p[i] !=irisData.target[i]):\n",
        "    ea = ea+1\n",
        "print(f'error rate: {ea/len(irisData.data)}')"
      ],
      "metadata": {
        "colab": {
          "base_uri": "https://localhost:8080/"
        },
        "id": "9-6-mXZ6lkWn",
        "outputId": "1a9cb876-c863-4863-abf7-b832d2f5436b"
      },
      "execution_count": 46,
      "outputs": [
        {
          "output_type": "stream",
          "name": "stdout",
          "text": [
            "method 1\n",
            "error rate: 0.0\n"
          ]
        }
      ]
    },
    {
      "cell_type": "code",
      "source": [
        "print(\"method 2\")\n",
        "print(f'number of non null values : {len(np.nonzero(p-irisData.target)[0])}')\n",
        "print(f'error rate : {len(np.nonzero(p-irisData.target)[0])/150}')"
      ],
      "metadata": {
        "colab": {
          "base_uri": "https://localhost:8080/"
        },
        "id": "9T1HBjR_lmeH",
        "outputId": "dfbcdb31-84d2-4568-dc64-1c2b6e9a49fd"
      },
      "execution_count": 47,
      "outputs": [
        {
          "output_type": "stream",
          "name": "stdout",
          "text": [
            "method 2\n",
            "number of non null values : 0\n",
            "error rate : 0.0\n"
          ]
        }
      ]
    },
    {
      "cell_type": "code",
      "source": [
        "\n",
        "print(\"method 3\")\n",
        "print(f'error rate : {1-model.score(irisData.data,irisData.target)}')"
      ],
      "metadata": {
        "colab": {
          "base_uri": "https://localhost:8080/"
        },
        "id": "UPEJfnn7lokM",
        "outputId": "5ea4dcf6-2d44-431e-8c37-1e0402699efa"
      },
      "execution_count": 48,
      "outputs": [
        {
          "output_type": "stream",
          "name": "stdout",
          "text": [
            "method 3\n",
            "error rate : 0.0\n"
          ]
        }
      ]
    },
    {
      "cell_type": "code",
      "source": [
        "\n",
        "model = DecisionTreeClassifier()\n",
        "error_rate = test(irisData, model)\n",
        "\n",
        "print(\"Taux d'erreur estimé avec Naive Bayes en utilisant split:\", error_rate)"
      ],
      "metadata": {
        "colab": {
          "base_uri": "https://localhost:8080/"
        },
        "id": "mnUsQPlvlxb_",
        "outputId": "dfe3b2af-e632-4d88-da82-fc2963dff66e"
      },
      "execution_count": 49,
      "outputs": [
        {
          "output_type": "stream",
          "name": "stdout",
          "text": [
            "Taux d'erreur estimé avec Naive Bayes en utilisant split: 0.0196078431372549\n"
          ]
        }
      ]
    },
    {
      "cell_type": "code",
      "source": [
        "ts = [10, 50, 100, 200, 500, 1000]\n",
        "repetitions = 20\n",
        "result_table2 = PrettyTable(['t', 'Mean Error'])\n",
        "\n",
        "for t in ts:\n",
        "    model =  DecisionTreeClassifier()\n",
        "    mean_errors = []\n",
        "    for _ in range(repetitions):\n",
        "        mean_error, _ = test_t(irisData, model, t)\n",
        "        mean_errors.append(mean_error)\n",
        "    error_rate = np.mean(mean_errors)\n",
        "    result_table2.add_row([t, f\"{error_rate:.4f}\"])\n",
        "\n",
        "    print(f\"Taux d'erreur moyen pour t={t}: {error_rate}\")"
      ],
      "metadata": {
        "colab": {
          "base_uri": "https://localhost:8080/"
        },
        "id": "547aiJ_2lzpe",
        "outputId": "8b9374b5-56a9-4891-efb0-dbe05dec0605"
      },
      "execution_count": 50,
      "outputs": [
        {
          "output_type": "stream",
          "name": "stdout",
          "text": [
            "Taux d'erreur moyen pour t=10: 0.05676470588235294\n",
            "Taux d'erreur moyen pour t=50: 0.05480392156862744\n",
            "Taux d'erreur moyen pour t=100: 0.05490196078431372\n",
            "Taux d'erreur moyen pour t=200: 0.05468627450980392\n",
            "Taux d'erreur moyen pour t=500: 0.05481372549019607\n",
            "Taux d'erreur moyen pour t=1000: 0.05479509803921569\n"
          ]
        }
      ]
    },
    {
      "cell_type": "code",
      "source": [
        "print(result_table2)"
      ],
      "metadata": {
        "colab": {
          "base_uri": "https://localhost:8080/"
        },
        "id": "ftA7xgPhl3Am",
        "outputId": "990d9398-c553-4014-9d3f-8d140aae811e"
      },
      "execution_count": 51,
      "outputs": [
        {
          "output_type": "stream",
          "name": "stdout",
          "text": [
            "+------+------------+\n",
            "|  t   | Mean Error |\n",
            "+------+------------+\n",
            "|  10  |   0.0568   |\n",
            "|  50  |   0.0548   |\n",
            "| 100  |   0.0549   |\n",
            "| 200  |   0.0547   |\n",
            "| 500  |   0.0548   |\n",
            "| 1000 |   0.0548   |\n",
            "+------+------------+\n"
          ]
        }
      ]
    },
    {
      "cell_type": "code",
      "source": [
        "\n",
        "#question 4\n",
        "ts = [10, 50, 100, 200, 500, 1000]\n",
        "repetitions = 20\n",
        "result_table1 = PrettyTable(['t', 'Mean Error'])\n",
        "\n",
        "for t in ts:\n",
        "    model =  DecisionTreeClassifier()\n",
        "    mean_errors = []\n",
        "    for _ in range(repetitions):\n",
        "        mean_error, _ = test_t(irisData, model, t,train_split=0.9)\n",
        "        mean_errors.append(mean_error)\n",
        "    error_rate = np.mean(mean_errors)\n",
        "    result_table1.add_row([t, f\"{error_rate:.4f}\"])\n",
        "    print(f\"Taux d'erreur moyen pour t={t}: {error_rate}\")\n",
        "print(result_table1)"
      ],
      "metadata": {
        "colab": {
          "base_uri": "https://localhost:8080/"
        },
        "id": "mTx0E2XVmEix",
        "outputId": "872702d2-7b1a-4fdd-ce64-8d221cbdf691"
      },
      "execution_count": 52,
      "outputs": [
        {
          "output_type": "stream",
          "name": "stdout",
          "text": [
            "Taux d'erreur moyen pour t=10: 0.05133333333333333\n",
            "Taux d'erreur moyen pour t=50: 0.0516\n",
            "Taux d'erreur moyen pour t=100: 0.05086666666666667\n",
            "Taux d'erreur moyen pour t=200: 0.05233333333333333\n",
            "Taux d'erreur moyen pour t=500: 0.053013333333333336\n",
            "Taux d'erreur moyen pour t=1000: 0.05286\n",
            "+------+------------+\n",
            "|  t   | Mean Error |\n",
            "+------+------------+\n",
            "|  10  |   0.0513   |\n",
            "|  50  |   0.0516   |\n",
            "| 100  |   0.0509   |\n",
            "| 200  |   0.0523   |\n",
            "| 500  |   0.0530   |\n",
            "| 1000 |   0.0529   |\n",
            "+------+------------+\n"
          ]
        }
      ]
    },
    {
      "cell_type": "code",
      "source": [
        "#question 5\n",
        "from sklearn.metrics import accuracy_score\n",
        "\n",
        "test_sizes = [0.1,0.2, 0.25,0.3, 0.33, 0.4, 0.7]\n",
        "result_table = PrettyTable(['Test Size', 'Error Rate'])\n",
        "error_rates = []\n",
        "for test_size in test_sizes:\n",
        "    model =  DecisionTreeClassifier()\n",
        "    # Split the data into training and testing sets\n",
        "    X_train, X_test, y_train, y_test = train_test_split(\n",
        "        irisData.data, irisData.target, test_size=test_size\n",
        "    )\n",
        "    model.fit(X_train, y_train)\n",
        "    predictions = model.predict(X_test)\n",
        "    error_rate = 1 - accuracy_score(y_test, predictions)\n",
        "    error_rates.append(error_rate)\n",
        "    result_table.add_row([test_size, f\"{error_rate:.4f}\"])\n",
        "    print(f\"Test Size: {test_size}, error rate: {error_rate}\")\n",
        "print(result_table)"
      ],
      "metadata": {
        "colab": {
          "base_uri": "https://localhost:8080/"
        },
        "id": "sZmiAvdmmTYf",
        "outputId": "b99e0c0a-8f1d-4dcd-a251-c96314443091"
      },
      "execution_count": 53,
      "outputs": [
        {
          "output_type": "stream",
          "name": "stdout",
          "text": [
            "Test Size: 0.1, error rate: 0.06666666666666665\n",
            "Test Size: 0.2, error rate: 0.033333333333333326\n",
            "Test Size: 0.25, error rate: 0.052631578947368474\n",
            "Test Size: 0.3, error rate: 0.022222222222222254\n",
            "Test Size: 0.33, error rate: 0.07999999999999996\n",
            "Test Size: 0.4, error rate: 0.09999999999999998\n",
            "Test Size: 0.7, error rate: 0.10476190476190472\n",
            "+-----------+------------+\n",
            "| Test Size | Error Rate |\n",
            "+-----------+------------+\n",
            "|    0.1    |   0.0667   |\n",
            "|    0.2    |   0.0333   |\n",
            "|    0.25   |   0.0526   |\n",
            "|    0.3    |   0.0222   |\n",
            "|    0.33   |   0.0800   |\n",
            "|    0.4    |   0.1000   |\n",
            "|    0.7    |   0.1048   |\n",
            "+-----------+------------+\n"
          ]
        }
      ]
    },
    {
      "cell_type": "code",
      "source": [
        "import matplotlib.pyplot as plt\n",
        "\n",
        "plt.plot(test_sizes, error_rates, marker='o')\n",
        "plt.title('Error Rate vs. Test Size')\n",
        "plt.xlabel('Test Size')\n",
        "plt.ylabel('Error Rate')\n",
        "plt.show()"
      ],
      "metadata": {
        "colab": {
          "base_uri": "https://localhost:8080/",
          "height": 472
        },
        "id": "z1c6NwNKmvki",
        "outputId": "d3447b28-2f51-4576-cc8a-1c4a2c7b4a8a"
      },
      "execution_count": 54,
      "outputs": [
        {
          "output_type": "display_data",
          "data": {
            "text/plain": [
              "<Figure size 640x480 with 1 Axes>"
            ],
            "image/png": "[encoded data removed]"
          },
          "metadata": {}
        }
      ]
    },
    {
      "cell_type": "code",
      "source": [
        "model =  DecisionTreeClassifier()\n",
        "num_folds = [2, 3, 5, 8, 10]\n",
        "summary_table = PrettyTable(['Folds', 'Mean Error Rate'])\n",
        "error_rates=[]\n",
        "for folds in num_folds:\n",
        "    scores = cross_val_score(model, irisData.data, irisData.target, cv=folds)\n",
        "    mean_error_rate = 1 - scores.mean()\n",
        "    error_rates.append(mean_error_rate)\n",
        "    summary_table.add_row([folds, f\"{mean_error_rate:.4f}\"])\n",
        "print(summary_table)"
      ],
      "metadata": {
        "colab": {
          "base_uri": "https://localhost:8080/"
        },
        "id": "v3QDHY3om03I",
        "outputId": "3e35455b-96e5-40dd-acff-dfcf60a9d4f9"
      },
      "execution_count": 55,
      "outputs": [
        {
          "output_type": "stream",
          "name": "stdout",
          "text": [
            "+-------+-----------------+\n",
            "| Folds | Mean Error Rate |\n",
            "+-------+-----------------+\n",
            "|   2   |      0.0467     |\n",
            "|   3   |      0.0267     |\n",
            "|   5   |      0.0333     |\n",
            "|   8   |      0.0464     |\n",
            "|   10  |      0.0467     |\n",
            "+-------+-----------------+\n"
          ]
        }
      ]
    }
  ]
}